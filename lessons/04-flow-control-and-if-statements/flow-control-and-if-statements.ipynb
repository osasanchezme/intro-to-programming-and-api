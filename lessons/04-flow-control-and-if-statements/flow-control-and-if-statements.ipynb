{
 "metadata": {
  "language_info": {
   "codemirror_mode": {
    "name": "ipython",
    "version": 3
   },
   "file_extension": ".py",
   "mimetype": "text/x-python",
   "name": "python",
   "nbconvert_exporter": "python",
   "pygments_lexer": "ipython3",
   "version": 3
  },
  "orig_nbformat": 2
 },
 "nbformat": 4,
 "nbformat_minor": 2,
 "cells": [
  {
   "cell_type": "code",
   "execution_count": null,
   "metadata": {},
   "outputs": [],
   "source": [
    "fcap = 100 # set this value to whatever you want\n",
    "ftot = 200  # set this value to whatever you want\n",
    "\n",
    "if ftot > fcap:\n",
    "\tprint(\"bearing force exceeds the capacity!\")"
   ]
  },
  {
   "cell_type": "code",
   "execution_count": null,
   "metadata": {},
   "outputs": [],
   "source": [
    "ftot = 100\n",
    "if ftot > fcap:\n",
    "\tprint(\"force exceeds the capacity!\")\n",
    "elif ftot == fcap:\n",
    "\tprint(\"force is equal to capacity\")"
   ]
  },
  {
   "cell_type": "code",
   "execution_count": null,
   "metadata": {},
   "outputs": [],
   "source": [
    "ftot = 50\n",
    "if ftot > fcap:\n",
    "\tprint(\"force exceeds the capacity!\")\n",
    "elif ftot == fcap:\n",
    "\tprint(\"force is equal to capacity\")\n",
    "else:\n",
    "\tprint(\"force is within capacity\")"
   ]
  },
  {
   "cell_type": "code",
   "execution_count": null,
   "metadata": {},
   "outputs": [],
   "source": [
    "fcap = 100 # set this value to whatever you want\n",
    "ftot = 10  # set this value to whatever you want\n",
    "\n",
    "# compare the difference in force to a small tolerance\n",
    "if (fcap - ftot) > 1.0E-6:\n",
    "\tprint(\"force exceeds the capacity!\")\n",
    "else if abs(f_cap - f_tot) < 1.0E-6:\n",
    "\tprint(\"force is equal to capacity\")\n",
    "else:\n",
    "\tprint(\"force is within capacity\")"
   ]
  }
 ]
}