{
 "metadata": {
  "language_info": {
   "codemirror_mode": {
    "name": "ipython",
    "version": 3
   },
   "file_extension": ".py",
   "mimetype": "text/x-python",
   "name": "python",
   "nbconvert_exporter": "python",
   "pygments_lexer": "ipython3",
   "version": 3
  },
  "orig_nbformat": 2
 },
 "nbformat": 4,
 "nbformat_minor": 2,
 "cells": [
  {
   "cell_type": "code",
   "execution_count": null,
   "metadata": {},
   "outputs": [],
   "source": [
    "fcap = 100 # set this value to whatever you want\n",
    "ftot = 10  # the value we calculated ealier\n",
    "\n",
    "if ftot > fcap:\n",
    "\tprint(\"bearing force exceeds the capacity!\")"
   ]
  },
  {
   "cell_type": "code",
   "execution_count": null,
   "metadata": {},
   "outputs": [],
   "source": [
    "fcap = 10\n",
    "if ftot > fcap:\n",
    "\tprint(\"bearing force exceeds the capacity!\")\n",
    "elif ftot == fcap:\n",
    "\tprint(\"bearing force is JUST within capacity\")"
   ]
  },
  {
   "cell_type": "code",
   "execution_count": null,
   "metadata": {},
   "outputs": [],
   "source": [
    "fcap = 5\n",
    "if ftot > fcap:\n",
    "\tprint(\"bearing force exceeds the capacity!\")\n",
    "elif ftot == fcap:\n",
    "\tprint(\"bearing force is JUST within capacity\")\n",
    "else:\n",
    "\tprint(\"bearing force is within capacity\")"
   ]
  },
  {
   "cell_type": "code",
   "execution_count": null,
   "metadata": {},
   "outputs": [],
   "source": [
    "fcap = 100 # set this value to whatever you want\n",
    "ftot = 10  # the value we calculated ealier\n",
    "\n",
    "# compare the difference in force to a small tolerance\n",
    "if (fcap - ftot) > 1.0E-6:\n",
    "\tprint(\"bearing force exceeds the capacity!\")\n",
    "else if (fcap - ftot) * 0.8 > 1.0E-6:\n",
    "\tprint(\"bearing force is close to capacity\")\n",
    "else:\n",
    "\tprint(\"bearing force is well within capacity\")"
   ]
  }
 ]
}