{
 "metadata": {
  "language_info": {
   "codemirror_mode": {
    "name": "ipython",
    "version": 3
   },
   "file_extension": ".py",
   "mimetype": "text/x-python",
   "name": "python",
   "nbconvert_exporter": "python",
   "pygments_lexer": "ipython3",
   "version": "3.9.1-final"
  },
  "orig_nbformat": 2,
  "kernelspec": {
   "name": "python3",
   "display_name": "Python 3.9.1 64-bit",
   "metadata": {
    "interpreter": {
     "hash": "549b59871d6a6b7c4f97b4e77ee4818a1e547e59fd095773d5c87a59b4471309"
    }
   }
  }
 },
 "nbformat": 4,
 "nbformat_minor": 2,
 "cells": [
  {
   "cell_type": "code",
   "execution_count": null,
   "metadata": {},
   "outputs": [],
   "source": [
    "# Force check against capacity:\n",
    "\n",
    "fcap = 100\n",
    "ftot = 10\n",
    "\n",
    "if (f_cap - f_tot) > 1.0E-6:\n",
    "\tprint(\"force exceeds the capacity!\")\n",
    "else if abs(f_cap - f_tot) < 1.0E-6:\n",
    "\tprint(\"force is equal to capacity\")\n",
    "else:\n",
    "\tprint(\"force is within capacity\")\n",
    "\n",
    "# Moment check against capacity:\n",
    "\n",
    "mcap = 100\n",
    "mtot = 10\n",
    "\n",
    "if (m_cap - m_tot) > 1.0E-6:\n",
    "\tprint(\"moment exceeds the capacity!\")\n",
    "else if abs(f_cap - f_tot) < 1.0E-6:\n",
    "\tprint(\"moment is equal to capacity\")\n",
    "else:\n",
    "\tprint(\"moment is within capacity\")"
   ]
  },
  {
   "cell_type": "code",
   "execution_count": 1,
   "metadata": {},
   "outputs": [],
   "source": [
    "# define the function\n",
    "def check_against_capacity(tot, cap):\n",
    "\tif tot > cap:\n",
    "\t\treturn \"exceeds the capacity!\"\n",
    "\telif abs(tot - cap) < 1.0E-6:\n",
    "\t\treturn \"is equal to capacity\"\n",
    "\telse:\n",
    "\t\treturn \"is within capacity\""
   ]
  },
  {
   "cell_type": "code",
   "execution_count": 3,
   "metadata": {},
   "outputs": [
    {
     "output_type": "stream",
     "name": "stdout",
     "text": [
      "bearing force exceeds the capacity!\n"
     ]
    }
   ],
   "source": [
    "# use the function to determine whether the force is within capacity\n",
    "fcap = 100 # set this value to whatever you like\n",
    "ftot = 10 # set this value to whatever you like\n",
    "output = \"force \" + check_against_capacity(ftot, fcap)\n",
    "print(output)"
   ]
  },
  {
   "cell_type": "code",
   "execution_count": null,
   "metadata": {},
   "outputs": [],
   "source": [
    "# use the function again to determine whether the moment is within capacity\n",
    "mcap = 100\n",
    "mtot = 10\n",
    "output = \"moment \" + check_against_capacity(mtot, mcap)\n",
    "print(output)"
   ]
  }
 ]
}