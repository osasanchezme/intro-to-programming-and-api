{
 "metadata": {
  "language_info": {
   "codemirror_mode": {
    "name": "ipython",
    "version": 3
   },
   "file_extension": ".py",
   "mimetype": "text/x-python",
   "name": "python",
   "nbconvert_exporter": "python",
   "pygments_lexer": "ipython3",
   "version": "3.9.1-final"
  },
  "orig_nbformat": 2,
  "kernelspec": {
   "name": "python3",
   "display_name": "Python 3.9.1 64-bit",
   "metadata": {
    "interpreter": {
     "hash": "549b59871d6a6b7c4f97b4e77ee4818a1e547e59fd095773d5c87a59b4471309"
    }
   }
  }
 },
 "nbformat": 4,
 "nbformat_minor": 2,
 "cells": [
  {
   "cell_type": "code",
   "execution_count": null,
   "metadata": {},
   "outputs": [],
   "source": [
    "# Force check against capacity:\n",
    "\n",
    "fcap = 100\n",
    "ftot = 10\n",
    "\n",
    "if ftot > fcap:\n",
    "\tprint(\"bearing force exceeds the capacity!\")\n",
    "elif ftot == fcap:\n",
    "\tprint(\"bearing force is JUST within capacity\")\n",
    "else:\n",
    "\tprint(\"bearing force is within capacity\")\n",
    "\n",
    "# Moment check against capacity:\n",
    "\n",
    "mcap = 100\n",
    "mtot = 10\n",
    "\n",
    "if mtot > mcap:\n",
    "\tprint(\"overturning moment exceeds the capacity!\")\n",
    "elif mtot == mcap:\n",
    "\tprint(\"overturning moment is JUST within capacity\")\n",
    "else:\n",
    "\tprint(\"overturning moment is within capacity\")"
   ]
  },
  {
   "cell_type": "code",
   "execution_count": 1,
   "metadata": {},
   "outputs": [],
   "source": [
    "# define the function\n",
    "def CheckAgainstCapacity(tot, cap):\n",
    "\tif tot > cap:\n",
    "\t\treturn \"exceeds the capacity!\"\n",
    "\telif tot == cap:\n",
    "\t\treturn \"is JUST within capacity\"\n",
    "\telse:\n",
    "\t\treturn \"is within capacity\""
   ]
  },
  {
   "cell_type": "code",
   "execution_count": 3,
   "metadata": {},
   "outputs": [
    {
     "output_type": "stream",
     "name": "stdout",
     "text": [
      "bearing force exceeds the capacity!\n"
     ]
    }
   ],
   "source": [
    "# use the function to calculate the force\n",
    "fcap = 5\n",
    "ftot = 10\n",
    "output = \"bearing force \" + CheckAgainstCapacity(ftot, fcap)\n",
    "print(output)"
   ]
  },
  {
   "cell_type": "code",
   "execution_count": null,
   "metadata": {},
   "outputs": [],
   "source": [
    "# use the function again to calculate the moment\n",
    "mcap = 100\n",
    "mtot = 10\n",
    "output = \"moment \" + CheckAgainstCapacity(mtot, mcap)\n",
    "print(output)"
   ]
  }
 ]
}