{
 "metadata": {
  "language_info": {
   "codemirror_mode": {
    "name": "ipython",
    "version": 3
   },
   "file_extension": ".py",
   "mimetype": "text/x-python",
   "name": "python",
   "nbconvert_exporter": "python",
   "pygments_lexer": "ipython3",
   "version": "3.9.1-final"
  },
  "orig_nbformat": 2,
  "kernelspec": {
   "name": "python3",
   "display_name": "Python 3.9.1 64-bit",
   "metadata": {
    "interpreter": {
     "hash": "549b59871d6a6b7c4f97b4e77ee4818a1e547e59fd095773d5c87a59b4471309"
    }
   }
  }
 },
 "nbformat": 4,
 "nbformat_minor": 2,
 "cells": [
  {
   "cell_type": "code",
   "execution_count": 1,
   "metadata": {},
   "outputs": [],
   "source": [
    "# Recall our input data\n",
    "f = [5.6, 4.3, 3.6, 2.8, 4.1]\t\t# forces\n",
    "d = [0.0, 0.75, 1.5, 2.25, 3.0]\t\t# distances"
   ]
  },
  {
   "cell_type": "code",
   "execution_count": null,
   "metadata": {},
   "outputs": [],
   "source": [
    "# Run a loop to calculate the total force\n",
    "indexes = [0, 1, 2, 3, 4]\n",
    "for i in indexes:\n",
    "\tftot += f[i] # NOTE remember += operator\n",
    "\n",
    "print('The total force is ' + str(ftot) + ' kN')"
   ]
  },
  {
   "cell_type": "code",
   "execution_count": null,
   "metadata": {},
   "outputs": [],
   "source": [
    "# Calculate the midpoint\n",
    "mid = d[-1] - d[0]\n",
    "\n",
    "# use range to run the loop\n",
    "for i in range(5):\n",
    "    mtot += f[i] * (mid - d[i])\n",
    "\n",
    "print('The total moment is ' + str(mtot) + ' kN')"
   ]
  },
  {
   "cell_type": "code",
   "execution_count": null,
   "metadata": {},
   "outputs": [],
   "source": [
    "# Use len to determine the number of iterations\n",
    "n = len(f)\n",
    "\n",
    "# run the loop for the whole list\n",
    "for i in range(n):\n",
    "\tftot += f[i]\n",
    "\tmtot += f[i] * (mid - d[i])\n",
    "\n",
    "print('The total force is ' + str(ftot) + ' kN')\n",
    "print('The total moment is ' + str(mtot) + ' kN')"
   ]
  }
 ]
}