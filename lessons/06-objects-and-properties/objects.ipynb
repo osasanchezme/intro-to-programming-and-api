{
 "metadata": {
  "language_info": {
   "codemirror_mode": {
    "name": "ipython",
    "version": 3
   },
   "file_extension": ".py",
   "mimetype": "text/x-python",
   "name": "python",
   "nbconvert_exporter": "python",
   "pygments_lexer": "ipython3",
   "version": 3
  },
  "orig_nbformat": 2
 },
 "nbformat": 4,
 "nbformat_minor": 2,
 "cells": [
  {
   "cell_type": "code",
   "execution_count": null,
   "metadata": {},
   "outputs": [],
   "source": [
    "# Define the class\n",
    "class Force:\n",
    "    def __init__(self, x, y, z):\n",
    "        self.X = x\n",
    "        self.Y = y\n",
    "        self.Z = z\n",
    "\n",
    "    def to_string(self):\n",
    "      return str(self.X) + ', ' + str(self.Y) + ', ' + str(self.Z)"
   ]
  },
  {
   "cell_type": "code",
   "execution_count": null,
   "metadata": {},
   "outputs": [],
   "source": [
    "# Create an instance of the class\n",
    "f1 = Force(-0.3, 0.8, 5.6)\n",
    "\n",
    "# Use the instance attributes in some print statements\n",
    "print('Force in X = ' + str(f1.X))\n",
    "print('Force in Y = ' + str(f1.Y))\n",
    "print('Force in Z = ' + str(f1.Z))"
   ]
  },
  {
   "cell_type": "code",
   "execution_count": null,
   "metadata": {},
   "outputs": [],
   "source": [
    "# Set the values of the class instance attributes\n",
    "f1.X = 0.1\n",
    "f1.Y = -0.1\n",
    "f1.Z = 0.0\n",
    "\n",
    "# Call functions from the class instance\n",
    "print('Force = ' + f1.to_string())"
   ]
  },
  {
   "cell_type": "code",
   "execution_count": null,
   "metadata": {},
   "outputs": [],
   "source": [
    "# Define a list of class instances\n",
    "fs = [Force(-0.3, 0.8, 5.6), \n",
    "      Force(0.1, -0.3, 4.3), \n",
    "      Force(0.5, 0.7, 3.6), \n",
    "      Force(-0.3, 0.6, 2.8), \n",
    "      Force(0.0, -0.1, 4.1)]\n",
    "\n",
    "# Access the attributes for one of the class instances\n",
    "print('Force in Z = ' + str(fs[2].Z))"
   ]
  },
  {
   "cell_type": "code",
   "execution_count": null,
   "metadata": {},
   "outputs": [],
   "source": [
    "# Add up the forces using a loop with numerical indexing\n",
    "f_tot = 0.0\n",
    "for i in range(len(fs)):\n",
    "  f_tot += fs[i].Z\n",
    "\n",
    "print('Total Force = ' + str(f_tot))"
   ]
  },
  {
   "cell_type": "code",
   "execution_count": null,
   "metadata": {},
   "outputs": [],
   "source": [
    "# Add up the forces by using each class instance as the loop variable during the iteration\n",
    "f_tot = 0.0\n",
    "for f in fs:\n",
    "  f_tot += f.Z\n",
    "\n",
    "print('Total Force = ' + str(f_tot))"
   ]
  },
  {
   "cell_type": "code",
   "execution_count": null,
   "metadata": {},
   "outputs": [],
   "source": [
    "# Add up the forces and store the total on another instance of the Force class\n",
    "f_t = Force(0,0,0)\n",
    "for f in fs:\n",
    "  f_t.X += f.X\n",
    "  f_t.Y += f.Y\n",
    "  f_t.Z += f.Z\n",
    "\n",
    "print('Total Force = ' + f_t.to_string())"
   ]
  }
 ]
}