{
 "metadata": {
  "language_info": {
   "codemirror_mode": {
    "name": "ipython",
    "version": 3
   },
   "file_extension": ".py",
   "mimetype": "text/x-python",
   "name": "python",
   "nbconvert_exporter": "python",
   "pygments_lexer": "ipython3",
   "version": "3.9.1-final"
  },
  "orig_nbformat": 2,
  "kernelspec": {
   "name": "python3",
   "display_name": "Python 3.9.1 64-bit",
   "metadata": {
    "interpreter": {
     "hash": "549b59871d6a6b7c4f97b4e77ee4818a1e547e59fd095773d5c87a59b4471309"
    }
   }
  }
 },
 "nbformat": 4,
 "nbformat_minor": 2,
 "cells": [
  {
   "cell_type": "code",
   "execution_count": 3,
   "metadata": {},
   "outputs": [],
   "source": [
    "# Defining a list using []\n",
    "f = [5.6, 4.3, 3.6, 2.8, 4.1]\t\t# forces\n",
    "d = [0.0, 0.75, 1.5, 2.25, 3.0]\t\t# distances"
   ]
  },
  {
   "cell_type": "code",
   "execution_count": 4,
   "metadata": {},
   "outputs": [],
   "source": [
    "# look up a value\n",
    "f4 = f[3]"
   ]
  },
  {
   "cell_type": "code",
   "execution_count": null,
   "metadata": {},
   "outputs": [],
   "source": [
    "# indexing  starts from 0, so:\n",
    "f1 = f[0]\n",
    "f2 = f[1]\n",
    "f3 = f[2]"
   ]
  },
  {
   "cell_type": "code",
   "execution_count": null,
   "metadata": {},
   "outputs": [],
   "source": [
    "# we can also traverse the list backwards\n",
    "f5 = f[-1]"
   ]
  },
  {
   "cell_type": "code",
   "execution_count": null,
   "metadata": {},
   "outputs": [],
   "source": [
    "# set a single value\n",
    "f[2] = 0.0"
   ]
  },
  {
   "cell_type": "code",
   "execution_count": null,
   "metadata": {},
   "outputs": [],
   "source": [
    "# set part of the list to the same value\n",
    "f[0:2] = 0.0"
   ]
  },
  {
   "cell_type": "code",
   "execution_count": null,
   "metadata": {},
   "outputs": [],
   "source": [
    "# reset our lists to their earlier values:\n",
    "f = [5.6, 4.3, 3.6, 2.8, 4.1]\t\t# forces\n",
    "d = [0.0, 0.75, 1.5, 2.25, 3.0]\t\t# distances"
   ]
  },
  {
   "cell_type": "code",
   "execution_count": null,
   "metadata": {},
   "outputs": [],
   "source": [
    "# Calculate the total force\n",
    "ftot = f[0] + f[1] + f[2] + f[3] + f[4]\n",
    "print('The total force is ' + str(ftot) + 'kN')"
   ]
  },
  {
   "cell_type": "code",
   "execution_count": 8,
   "metadata": {},
   "outputs": [],
   "source": [
    "# For the total moment, start by getting the midpoint\n",
    "mid = (d[-1] - d[0]) / 2.0 # NOTE use of -1\n",
    "\n",
    "# calculate the total moment\n",
    "mtot  = f[0] * (mid - d[0])\n",
    "mtot += f[1] * (mid - d[1])  # NOTE remember += operator\n",
    "mtot += f[2] * (mid - d[2])\n",
    "mtot += f[3] * (mid - d[3])\n",
    "mtot += f[4] * (mid - d[4]) \n",
    "print('The total moment is ' + str(mtot) + 'kNm')"
   ]
  }
 ]
}