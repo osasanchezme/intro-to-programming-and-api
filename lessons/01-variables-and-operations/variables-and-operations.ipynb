{
 "metadata": {
  "language_info": {
   "codemirror_mode": {
    "name": "ipython",
    "version": 3
   },
   "file_extension": ".py",
   "mimetype": "text/x-python",
   "name": "python",
   "nbconvert_exporter": "python",
   "pygments_lexer": "ipython3",
   "version": "3.9.1-final"
  },
  "orig_nbformat": 2,
  "kernelspec": {
   "name": "python3",
   "display_name": "Python 3.9.1 64-bit",
   "metadata": {
    "interpreter": {
     "hash": "549b59871d6a6b7c4f97b4e77ee4818a1e547e59fd095773d5c87a59b4471309"
    }
   }
  }
 },
 "nbformat": 4,
 "nbformat_minor": 2,
 "cells": [
  {
   "cell_type": "code",
   "execution_count": 11,
   "metadata": {},
   "outputs": [
    {
     "output_type": "stream",
     "name": "stdout",
     "text": [
      "The total force is: 20.4 kN\n"
     ]
    }
   ],
   "source": [
    "f1 = 5.6\n",
    "f2 = 4.3\n",
    "f3 = 3.6\n",
    "f4 = 2.8\n",
    "f5 = 4.1\n",
    "\n",
    "total_force = f1 + f2 + f3 + f4 + f5\n",
    "\n",
    "print('The total force is: ' + str(total_force) + 'kN')"
   ]
  },
  {
   "cell_type": "code",
   "execution_count": 12,
   "metadata": {},
   "outputs": [
    {
     "output_type": "stream",
     "name": "stdout",
     "text": [
      "midpoint = 1.5 m\n"
     ]
    }
   ],
   "source": [
    "d1 = 0.0\n",
    "d2 = 0.75\n",
    "d3 = 1.5\n",
    "d4 = 2.25\n",
    "d5 = 3.0\n",
    "\n",
    "midpoint = (d5 - d1) / 2.0\n",
    "\n",
    "print('midpoint = ' + str(midpoint) + ' m')"
   ]
  },
  {
   "cell_type": "code",
   "execution_count": 13,
   "metadata": {},
   "outputs": [
    {
     "output_type": "stream",
     "name": "stdout",
     "text": [
      "moment = 8.399999999999999 kNm\n"
     ]
    }
   ],
   "source": [
    "# For the first force:\n",
    "total_moment = f1 * (midpoint - d1)\n",
    "print ('moment = ' + str(total_moment) + ' kNm')"
   ]
  },
  {
   "cell_type": "code",
   "execution_count": 14,
   "metadata": {},
   "outputs": [
    {
     "output_type": "stream",
     "name": "stdout",
     "text": [
      "moment = 11.624999999999998 kNm\n"
     ]
    }
   ],
   "source": [
    "# For the second force:\n",
    "total_moment = total_moment + f2 * (midpoint - d2)\n",
    "print ('moment = ' + str(total_moment) + ' kNm')"
   ]
  },
  {
   "cell_type": "code",
   "execution_count": 15,
   "metadata": {},
   "outputs": [
    {
     "output_type": "stream",
     "name": "stdout",
     "text": [
      "moment = 11.624999999999998 kNm\n"
     ]
    }
   ],
   "source": [
    "total_moment += f3 * (midpoint - d3)\n",
    "print ('moment = ' + str(total_moment) + ' kNm')"
   ]
  },
  {
   "cell_type": "code",
   "execution_count": 16,
   "metadata": {},
   "outputs": [
    {
     "output_type": "stream",
     "name": "stdout",
     "text": [
      "moment = 3.374999999999999 kNm\n"
     ]
    }
   ],
   "source": [
    "total_moment += f4 * (midpoint - d4) # fourth force\n",
    "total_moment += f5 * (midpoint - d5) # fifth force\n",
    "print ('moment = ' + str(total_moment) + ' kNm')"
   ]
  }
 ]
}